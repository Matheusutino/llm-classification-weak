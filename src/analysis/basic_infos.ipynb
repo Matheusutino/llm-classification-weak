{
 "cells": [
  {
   "cell_type": "code",
   "execution_count": 1,
   "id": "69083a09",
   "metadata": {},
   "outputs": [
    {
     "name": "stdout",
     "output_type": "stream",
     "text": [
      "/home/matheus/Desktop/Itens./Itens/Projetos/paper-weak-llm\n"
     ]
    }
   ],
   "source": [
    "%cd ../.."
   ]
  },
  {
   "cell_type": "code",
   "execution_count": 2,
   "id": "03ad2453",
   "metadata": {},
   "outputs": [
    {
     "name": "stdout",
     "output_type": "stream",
     "text": [
      "re8.csv:\n",
      "  Instâncias: 7674\n",
      "  Labels (8): ['acquisition', 'crude', 'earn', 'grain', 'interest', 'money', 'ship', 'trade']\n",
      "  Valores nulos no total: 0\n",
      "  Valores nulos na coluna 'class': 0\n",
      "\n",
      "sms_spam.csv:\n",
      "  Instâncias: 5574\n",
      "  Labels (2): ['ham', 'spam']\n",
      "  Valores nulos no total: 0\n",
      "  Valores nulos na coluna 'class': 0\n",
      "\n",
      "review_polarity.csv:\n",
      "  Instâncias: 2000\n",
      "  Labels (2): ['negative', 'positive']\n",
      "  Valores nulos no total: 0\n",
      "  Valores nulos na coluna 'class': 0\n",
      "\n",
      "Dmoz-Health.csv:\n",
      "  Instâncias: 6500\n",
      "  Labels (13): ['Addictions', 'Alternative', 'Animal', 'Conditions', 'Medicine', 'Mental', 'Nursing', 'Nutrition', 'Pharmacy', 'Professions', 'Public', 'Reproductive', 'Senior']\n",
      "  Valores nulos no total: 0\n",
      "  Valores nulos na coluna 'class': 0\n",
      "\n",
      "classic4.csv:\n",
      "  Instâncias: 7095\n",
      "  Labels (4): ['cacm', 'cisi', 'cran', 'med']\n",
      "  Valores nulos no total: 0\n",
      "  Valores nulos na coluna 'class': 0\n",
      "\n",
      "webkb-parsed.csv:\n",
      "  Instâncias: 8282\n",
      "  Labels (7): ['course', 'department', 'faculty', 'other', 'project', 'staff', 'student']\n",
      "  Valores nulos no total: 0\n",
      "  Valores nulos na coluna 'class': 0\n",
      "\n",
      "NSF.csv:\n",
      "  Instâncias: 10524\n",
      "  Labels (16): ['data', 'ecology', 'economics', 'geophysics', 'gravitional', 'hydro', 'math', 'metals', 'networking', 'neuroscience', 'oceanography', 'politic', 'sociology', 'software', 'statistics', 'theory']\n",
      "  Valores nulos no total: 0\n",
      "  Valores nulos na coluna 'class': 0\n",
      "\n",
      "Dmoz-Computers.csv:\n",
      "  Instâncias: 9500\n",
      "  Labels (18): ['Artificial', 'CAD', 'Companies', 'Computer', 'Consultants', 'Data', 'Education', 'Graphics', 'Hardware', 'Internet', 'Mobile', 'Multimedia', 'Open', 'Programming', 'Robotics', 'Security', 'Software', 'Systems']\n",
      "  Valores nulos no total: 0\n",
      "  Valores nulos na coluna 'class': 0\n",
      "\n",
      "Industry Sector.csv:\n",
      "  Instâncias: 8817\n",
      "  Labels (11): ['basic', 'capital', 'conglomerates', 'consumer', 'energy', 'financial', 'healthcare', 'services', 'technology', 'transportation', 'utilities']\n",
      "  Valores nulos no total: 0\n",
      "  Valores nulos na coluna 'class': 0\n",
      "\n",
      "Dmoz-Science.csv:\n",
      "  Instâncias: 6000\n",
      "  Labels (12): ['Agriculture', 'Astronomy', 'Biology', 'Chemistry', 'Earth', 'Environment', 'Instruments', 'Math', 'Physics', 'Science', 'Social', 'Technology']\n",
      "  Valores nulos no total: 0\n",
      "  Valores nulos na coluna 'class': 0\n",
      "\n",
      "SyskillWebert.csv:\n",
      "  Instâncias: 333\n",
      "  Labels (4): ['Bands', 'BioMedical', 'Goats', 'Sheep']\n",
      "  Valores nulos no total: 0\n",
      "  Valores nulos na coluna 'class': 0\n",
      "\n",
      "CSTR.csv:\n",
      "  Instâncias: 299\n",
      "  Labels (4): ['Artificial Intelligence', 'Robotics', 'Systems', 'Theory']\n",
      "  Valores nulos no total: 0\n",
      "  Valores nulos na coluna 'class': 0\n",
      "\n",
      "Dmoz-Sports.csv:\n",
      "  Instâncias: 13500\n",
      "  Labels (27): ['Baseball', 'Basketball', 'Bowling', 'Cricket', 'Cycling', 'Equestrian', 'Fencing', 'Flying', 'Football', 'Golf', 'Gymnastics', 'Hockey', 'Lacrosse', 'Martial', 'Motorsports', 'Paintball', 'Running', 'Skating', 'Soccer', 'Softball', 'Strength', 'Tennis', 'Track', 'Volleyball', 'Water', 'Winter', 'Wrestling']\n",
      "  Valores nulos no total: 0\n",
      "  Valores nulos na coluna 'class': 0\n",
      "\n"
     ]
    }
   ],
   "source": [
    "import pandas as pd\n",
    "from pathlib import Path\n",
    "\n",
    "# Caminho para a pasta onde estão os datasets\n",
    "dataset_dir = Path(\"datasets/original\")\n",
    "\n",
    "# Itera sobre todos os arquivos .csv na pasta\n",
    "for csv_file in dataset_dir.glob(\"*.csv\"):\n",
    "    try:\n",
    "        df = pd.read_csv(csv_file)\n",
    "        \n",
    "        if 'class' not in df.columns:\n",
    "            print(f\"{csv_file.name}: coluna 'class' não encontrada.\")\n",
    "            continue\n",
    "        \n",
    "        n_instances = len(df)\n",
    "        labels = df['class'].dropna().unique()\n",
    "        n_labels = len(labels)\n",
    "\n",
    "        # Verifica se há valores nulos\n",
    "        total_nulls = df.isnull().sum().sum()\n",
    "        class_nulls = df['class'].isnull().sum()\n",
    "\n",
    "        print(f\"{csv_file.name}:\")\n",
    "        print(f\"  Instâncias: {n_instances}\")\n",
    "        print(f\"  Labels ({n_labels}): {list(labels)}\")\n",
    "        print(f\"  Valores nulos no total: {total_nulls}\")\n",
    "        print(f\"  Valores nulos na coluna 'class': {class_nulls}\\n\")\n",
    "        \n",
    "    except Exception as e:\n",
    "        print(f\"Erro ao processar {csv_file.name}: {e}\")\n"
   ]
  }
 ],
 "metadata": {
  "kernelspec": {
   "display_name": "weak",
   "language": "python",
   "name": "python3"
  },
  "language_info": {
   "codemirror_mode": {
    "name": "ipython",
    "version": 3
   },
   "file_extension": ".py",
   "mimetype": "text/x-python",
   "name": "python",
   "nbconvert_exporter": "python",
   "pygments_lexer": "ipython3",
   "version": "3.12.3"
  }
 },
 "nbformat": 4,
 "nbformat_minor": 5
}
